{
  "nbformat": 4,
  "nbformat_minor": 0,
  "metadata": {
    "colab": {
      "name": "NavyVesselDetection.ipynb",
      "provenance": [],
      "collapsed_sections": []
    },
    "kernelspec": {
      "name": "python3",
      "display_name": "Python 3"
    },
    "language_info": {
      "name": "python"
    },
    "accelerator": "GPU"
  },
  "cells": [
    {
      "cell_type": "code",
      "metadata": {
        "id": "X5iHeBGhsThv"
      },
      "source": [
        "import os\n",
        "import zipfile\n",
        "import random\n",
        "import shutil\n",
        "import tensorflow as tf\n",
        "from tensorflow.keras.optimizers import RMSprop\n",
        "from tensorflow.keras.preprocessing.image import ImageDataGenerator\n",
        "from shutil import copyfile\n",
        "from os import getcwd\n",
        "from os import listdir\n",
        "import cv2\n",
        "from tensorflow.keras.layers import Conv2D, Input, ZeroPadding2D, BatchNormalization, Activation, MaxPooling2D, Flatten, Dense\n",
        "from tensorflow.keras.models import Model, load_model\n",
        "from tensorflow.keras.callbacks import TensorBoard, ModelCheckpoint\n",
        "from sklearn.model_selection import train_test_split\n",
        "from sklearn.metrics import f1_score\n",
        "from sklearn.utils import shuffle\n",
        "import imutils\n",
        "import numpy as np\n",
        "import matplotlib.pyplot as plt\n",
        "import matplotlib.image  as mpimg"
      ],
      "execution_count": 1,
      "outputs": []
    },
    {
      "cell_type": "code",
      "metadata": {
        "id": "wEoyDwO-skL8",
        "colab": {
          "base_uri": "https://localhost:8080/"
        },
        "outputId": "6ea44a12-f80e-4b38-f181-861f12deeed9"
      },
      "source": [
        "from google.colab import drive\n",
        "drive.mount('/content/drive')"
      ],
      "execution_count": 2,
      "outputs": [
        {
          "output_type": "stream",
          "text": [
            "Mounted at /content/drive\n"
          ],
          "name": "stdout"
        }
      ]
    },
    {
      "cell_type": "code",
      "metadata": {
        "id": "POKhvOhqsySV"
      },
      "source": [
        "from zipfile import ZipFile\n",
        "file_name = \"/content/drive/MyDrive/NavyVessel.zip\"\n",
        "\n",
        "with ZipFile(file_name, 'r') as zip:\n",
        "  zip.extractall()"
      ],
      "execution_count": 3,
      "outputs": []
    },
    {
      "cell_type": "code",
      "metadata": {
        "colab": {
          "base_uri": "https://localhost:8080/"
        },
        "id": "frm_qjXxszvq",
        "outputId": "e37a132a-29b9-4fc9-db82-129b3880ef88"
      },
      "source": [
        "print(len(os.listdir('/content/NavyVessel/Vessel')))\n",
        "print(len(os.listdir('/content/NavyVessel/No Vessel')))"
      ],
      "execution_count": 4,
      "outputs": [
        {
          "output_type": "stream",
          "text": [
            "74\n",
            "70\n"
          ],
          "name": "stdout"
        }
      ]
    },
    {
      "cell_type": "code",
      "metadata": {
        "id": "sr7CvPW0s6fu"
      },
      "source": [
        "try:\n",
        "    os.mkdir('/content/EnemyNavyVessel')\n",
        "    os.mkdir('/content/EnemyNavyVessel/training')\n",
        "    os.mkdir('/content/EnemyNavyVessel/testing')\n",
        "    os.mkdir('/content/EnemyNavyVessel/training/Ship')\n",
        "    os.mkdir('/content/EnemyNavyVessel/training/No Ship')\n",
        "    os.mkdir('/content/EnemyNavyVessel/testing/Ship')\n",
        "    os.mkdir('/content/EnemyNavyVessel/testing/No Ship')\n",
        "\n",
        "except OSError:\n",
        "    pass"
      ],
      "execution_count": 5,
      "outputs": []
    },
    {
      "cell_type": "code",
      "metadata": {
        "id": "Ju7yRBwftQL_"
      },
      "source": [
        "import random\n",
        "from shutil import copyfile\n",
        "def split_data(SOURCE, TRAINING, TESTING, SPLIT_SIZE):\n",
        "    files = []\n",
        "    for filename in os.listdir(SOURCE):\n",
        "        file = SOURCE + filename\n",
        "        if os.path.getsize(file) > 0:\n",
        "            files.append(filename)\n",
        "        else:\n",
        "            print(filename + \" is zero length, so ignoring.\")\n",
        "\n",
        "    training_length = int(len(files) * SPLIT_SIZE)\n",
        "    testing_length = int(len(files) - training_length)\n",
        "    shuffled_set = random.sample(files, len(files))\n",
        "    training_set = shuffled_set[0:training_length]\n",
        "    testing_set = shuffled_set[training_length:]\n",
        "\n",
        "    for filename in training_set:\n",
        "        this_file = SOURCE + filename\n",
        "        destination = TRAINING + filename\n",
        "        copyfile(this_file, destination)\n",
        "\n",
        "    for filename in testing_set:\n",
        "        this_file = SOURCE + filename\n",
        "        destination = TESTING + filename\n",
        "        copyfile(this_file, destination)\n",
        "\n",
        "\n",
        "ENEMYSHIP_SOURCE_DIR = \"/content/NavyVessel/Vessel/\"\n",
        "TRAINING_ENEMYSHIP_DIR = \"/content/EnemyNavyVessel/training/Ship/\"\n",
        "TESTING_ENEMYSHIP_DIR = \"/content/EnemyNavyVessel/testing/Ship/\"\n",
        "NOSHIP_SOURCE_DIR = \"/content/NavyVessel/No Vessel/\"\n",
        "TRAINING_NOSHIP_DIR = \"/content/EnemyNavyVessel/training/No Ship/\"\n",
        "TESTING_NOSHIP_DIR = \"/content/EnemyNavyVessel/testing/No Ship/\"\n",
        "\n",
        "split_size = 0.9\n",
        "split_data(ENEMYSHIP_SOURCE_DIR,TRAINING_ENEMYSHIP_DIR,TESTING_ENEMYSHIP_DIR, split_size)\n",
        "split_data(NOSHIP_SOURCE_DIR, TRAINING_NOSHIP_DIR ,TESTING_NOSHIP_DIR , split_size)"
      ],
      "execution_count": 6,
      "outputs": []
    },
    {
      "cell_type": "code",
      "metadata": {
        "colab": {
          "base_uri": "https://localhost:8080/"
        },
        "id": "EPk2IFedtXoN",
        "outputId": "d95e94a7-f45d-41cd-d740-536263e15bf1"
      },
      "source": [
        "TRAINING_DIR = \"/content/EnemyNavyVessel/training\"\n",
        "\n",
        "train_datagen = ImageDataGenerator(rescale=1./255,\n",
        "      rotation_range=40,\n",
        "      width_shift_range=0.2,\n",
        "      height_shift_range=0.2,\n",
        "      shear_range=0.2,\n",
        "      zoom_range=0.2,\n",
        "      horizontal_flip=True,\n",
        "      fill_mode='nearest')\n",
        "train_generator = train_datagen.flow_from_directory(TRAINING_DIR,\n",
        "                                                    batch_size=100,\n",
        "                                                    class_mode='binary',\n",
        "                                                    target_size=(150, 150))\n",
        "\n",
        "VALIDATION_DIR = \"/content/EnemyNavyVessel/testing\"\n",
        "\n",
        "validation_datagen = ImageDataGenerator(rescale=1./255)\n",
        "validation_generator = validation_datagen.flow_from_directory(VALIDATION_DIR,\n",
        "                                                              batch_size=100,\n",
        "                                                              class_mode='binary',\n",
        "                                                              target_size=(150, 150))"
      ],
      "execution_count": 7,
      "outputs": [
        {
          "output_type": "stream",
          "text": [
            "Found 129 images belonging to 2 classes.\n",
            "Found 15 images belonging to 2 classes.\n"
          ],
          "name": "stdout"
        }
      ]
    },
    {
      "cell_type": "code",
      "metadata": {
        "colab": {
          "base_uri": "https://localhost:8080/"
        },
        "id": "AO7d3qg4tYIm",
        "outputId": "2d6261df-088d-4bb0-cb75-7f9c7afdbaf2"
      },
      "source": [
        "model = tf.keras.models.Sequential([\n",
        "    tf.keras.layers.Conv2D(100, (3,3), activation='relu', input_shape=(150, 150, 3)),\n",
        "    tf.keras.layers.MaxPooling2D(2,2),\n",
        "    \n",
        "    tf.keras.layers.Conv2D(100, (3,3), activation='relu'),\n",
        "    tf.keras.layers.MaxPooling2D(2,2),\n",
        "    \n",
        "    tf.keras.layers.Flatten(),\n",
        "    tf.keras.layers.Dropout(0.5),\n",
        "    tf.keras.layers.Dense(50, activation='relu'),\n",
        "    tf.keras.layers.Dense(2, activation='softmax')\n",
        "])\n",
        "print(model.summary())"
      ],
      "execution_count": 8,
      "outputs": [
        {
          "output_type": "stream",
          "text": [
            "Model: \"sequential\"\n",
            "_________________________________________________________________\n",
            "Layer (type)                 Output Shape              Param #   \n",
            "=================================================================\n",
            "conv2d (Conv2D)              (None, 148, 148, 100)     2800      \n",
            "_________________________________________________________________\n",
            "max_pooling2d (MaxPooling2D) (None, 74, 74, 100)       0         \n",
            "_________________________________________________________________\n",
            "conv2d_1 (Conv2D)            (None, 72, 72, 100)       90100     \n",
            "_________________________________________________________________\n",
            "max_pooling2d_1 (MaxPooling2 (None, 36, 36, 100)       0         \n",
            "_________________________________________________________________\n",
            "flatten (Flatten)            (None, 129600)            0         \n",
            "_________________________________________________________________\n",
            "dropout (Dropout)            (None, 129600)            0         \n",
            "_________________________________________________________________\n",
            "dense (Dense)                (None, 50)                6480050   \n",
            "_________________________________________________________________\n",
            "dense_1 (Dense)              (None, 2)                 102       \n",
            "=================================================================\n",
            "Total params: 6,573,052\n",
            "Trainable params: 6,573,052\n",
            "Non-trainable params: 0\n",
            "_________________________________________________________________\n",
            "None\n"
          ],
          "name": "stdout"
        }
      ]
    },
    {
      "cell_type": "code",
      "metadata": {
        "colab": {
          "base_uri": "https://localhost:8080/"
        },
        "id": "riMwxYXGtnE6",
        "outputId": "bd9b0a2d-6187-4291-8729-b45be4c4fb8c"
      },
      "source": [
        "opt=tf.keras.optimizers.Adam(learning_rate=0.001)\n",
        "model.compile(optimizer=opt,\n",
        "              loss='sparse_categorical_crossentropy',\n",
        "              metrics=['acc'])\n",
        "\n",
        "\n",
        "history = model.fit(\n",
        "            train_generator,\n",
        "            validation_data=validation_generator,\n",
        "            epochs=20,\n",
        "            verbose=1)"
      ],
      "execution_count": 9,
      "outputs": [
        {
          "output_type": "stream",
          "text": [
            "Epoch 1/20\n",
            "2/2 [==============================] - 35s 2s/step - loss: 2.1078 - acc: 0.4496 - val_loss: 0.9361 - val_acc: 0.5333\n",
            "Epoch 2/20\n",
            "2/2 [==============================] - 2s 2s/step - loss: 0.8396 - acc: 0.5116 - val_loss: 0.7315 - val_acc: 0.5333\n",
            "Epoch 3/20\n",
            "2/2 [==============================] - 2s 409ms/step - loss: 0.7148 - acc: 0.5116 - val_loss: 0.6959 - val_acc: 0.5333\n",
            "Epoch 4/20\n",
            "2/2 [==============================] - 2s 2s/step - loss: 0.6918 - acc: 0.5116 - val_loss: 0.6907 - val_acc: 0.5333\n",
            "Epoch 5/20\n",
            "2/2 [==============================] - 2s 2s/step - loss: 0.6889 - acc: 0.5116 - val_loss: 0.6901 - val_acc: 0.5333\n",
            "Epoch 6/20\n",
            "2/2 [==============================] - 2s 2s/step - loss: 0.6862 - acc: 0.5426 - val_loss: 0.6827 - val_acc: 0.5333\n",
            "Epoch 7/20\n",
            "2/2 [==============================] - 2s 2s/step - loss: 0.6826 - acc: 0.5194 - val_loss: 0.6882 - val_acc: 0.6000\n",
            "Epoch 8/20\n",
            "2/2 [==============================] - 2s 2s/step - loss: 0.6854 - acc: 0.5891 - val_loss: 0.6743 - val_acc: 0.5333\n",
            "Epoch 9/20\n",
            "2/2 [==============================] - 2s 681ms/step - loss: 0.6754 - acc: 0.6434 - val_loss: 0.6842 - val_acc: 0.6667\n",
            "Epoch 10/20\n",
            "2/2 [==============================] - 2s 549ms/step - loss: 0.6784 - acc: 0.5504 - val_loss: 0.6819 - val_acc: 0.5333\n",
            "Epoch 11/20\n",
            "2/2 [==============================] - 2s 631ms/step - loss: 0.6750 - acc: 0.5659 - val_loss: 0.7718 - val_acc: 0.5333\n",
            "Epoch 12/20\n",
            "2/2 [==============================] - 2s 477ms/step - loss: 0.6596 - acc: 0.5814 - val_loss: 0.6672 - val_acc: 0.4667\n",
            "Epoch 13/20\n",
            "2/2 [==============================] - 2s 646ms/step - loss: 0.6506 - acc: 0.5969 - val_loss: 0.6682 - val_acc: 0.6000\n",
            "Epoch 14/20\n",
            "2/2 [==============================] - 2s 2s/step - loss: 0.6366 - acc: 0.5891 - val_loss: 0.7382 - val_acc: 0.4667\n",
            "Epoch 15/20\n",
            "2/2 [==============================] - 2s 2s/step - loss: 0.6378 - acc: 0.6279 - val_loss: 0.7763 - val_acc: 0.5333\n",
            "Epoch 16/20\n",
            "2/2 [==============================] - 2s 755ms/step - loss: 0.6282 - acc: 0.6899 - val_loss: 0.7092 - val_acc: 0.5333\n",
            "Epoch 17/20\n",
            "2/2 [==============================] - 2s 539ms/step - loss: 0.6420 - acc: 0.6744 - val_loss: 0.6496 - val_acc: 0.6000\n",
            "Epoch 18/20\n",
            "2/2 [==============================] - 2s 574ms/step - loss: 0.6011 - acc: 0.6899 - val_loss: 0.6747 - val_acc: 0.6000\n",
            "Epoch 19/20\n",
            "2/2 [==============================] - 2s 2s/step - loss: 0.5996 - acc: 0.6977 - val_loss: 0.7906 - val_acc: 0.5333\n",
            "Epoch 20/20\n",
            "2/2 [==============================] - 2s 461ms/step - loss: 0.5769 - acc: 0.7442 - val_loss: 0.8862 - val_acc: 0.5333\n"
          ],
          "name": "stdout"
        }
      ]
    },
    {
      "cell_type": "code",
      "metadata": {
        "colab": {
          "base_uri": "https://localhost:8080/"
        },
        "id": "8fxvAdKXtqJF",
        "outputId": "031a1543-5032-43d7-c7d2-5917564f6dc4"
      },
      "source": [
        "model.evaluate(validation_generator)"
      ],
      "execution_count": 10,
      "outputs": [
        {
          "output_type": "stream",
          "text": [
            "1/1 [==============================] - 0s 157ms/step - loss: 0.8862 - acc: 0.5333\n"
          ],
          "name": "stdout"
        },
        {
          "output_type": "execute_result",
          "data": {
            "text/plain": [
              "[0.8861902952194214, 0.5333333611488342]"
            ]
          },
          "metadata": {
            "tags": []
          },
          "execution_count": 10
        }
      ]
    },
    {
      "cell_type": "code",
      "metadata": {
        "id": "D-0CLbFEt-RY"
      },
      "source": [
        "from keras.preprocessing.image import load_img,img_to_array\n",
        "\n",
        "dic=train_generator.class_indices\n",
        "icd={k:v for v,k in dic.items()}\n",
        "def output(location):\n",
        "    img=load_img(location,target_size=(150,150,3))\n",
        "    img=img_to_array(img)\n",
        "    img=img/255\n",
        "    img=np.expand_dims(img,[0])\n",
        "    answer=model.predict_classes(img)\n",
        "    probability=round(np.max(model.predict_proba(img)*100),2)\n",
        "    print (icd[answer[0]], 'With probability',probability)"
      ],
      "execution_count": 11,
      "outputs": []
    },
    {
      "cell_type": "code",
      "metadata": {
        "id": "ApOAW2o20QJa",
        "colab": {
          "base_uri": "https://localhost:8080/"
        },
        "outputId": "c7fa1902-d161-48f9-eeee-99dd90452dc9"
      },
      "source": [
        "print(icd)"
      ],
      "execution_count": 12,
      "outputs": [
        {
          "output_type": "stream",
          "text": [
            "{0: 'No Ship', 1: 'Ship'}\n"
          ],
          "name": "stdout"
        }
      ]
    },
    {
      "cell_type": "markdown",
      "metadata": {
        "id": "XJ7BB9gHTubr"
      },
      "source": [
        ""
      ]
    },
    {
      "cell_type": "code",
      "metadata": {
        "id": "HosyS1kuXhVc",
        "colab": {
          "base_uri": "https://localhost:8080/"
        },
        "outputId": "8bffb1ca-223d-4d67-85e4-3ef1fdf9dd54"
      },
      "source": [
        "icd"
      ],
      "execution_count": null,
      "outputs": [
        {
          "output_type": "execute_result",
          "data": {
            "text/plain": [
              "{0: 'No Ship', 1: 'Ship'}"
            ]
          },
          "metadata": {
            "tags": []
          },
          "execution_count": 12
        }
      ]
    },
    {
      "cell_type": "code",
      "metadata": {
        "id": "Ur5FVzc_t_0l",
        "colab": {
          "base_uri": "https://localhost:8080/",
          "height": 167
        },
        "outputId": "78cc6769-7897-4d95-8553-d8fbb6b26907"
      },
      "source": [
        "img=\"/content/NavyVessel/No Vessel/1ee35476b6c80ac93f369b6431113c08.jpg\"\n",
        "s=load_img(img,target_size=(150,150,3))\n",
        "s"
      ],
      "execution_count": 16,
      "outputs": [
        {
          "output_type": "execute_result",
          "data": {
            "image/png": "[encoded data removed]",
            "text/plain": [
              "<PIL.Image.Image image mode=RGB size=150x150 at 0x7FA2F4CE6C10>"
            ]
          },
          "metadata": {
            "tags": []
          },
          "execution_count": 16
        }
      ]
    },
    {
      "cell_type": "code",
      "metadata": {
        "id": "55hiQlXQYFTD"
      },
      "source": [
        "model.save('enemynavyvessel_model.h5')"
      ],
      "execution_count": 13,
      "outputs": []
    },
    {
      "cell_type": "code",
      "metadata": {
        "id": "_ty8zWcwgxPP"
      },
      "source": [
        "model.save_weights(\"model1.h5\")"
      ],
      "execution_count": 14,
      "outputs": []
    },
    {
      "cell_type": "code",
      "metadata": {
        "id": "nHWrh6_IuBUk",
        "colab": {
          "base_uri": "https://localhost:8080/"
        },
        "outputId": "87882c04-4797-44ba-ef88-9ee87f1e56d9"
      },
      "source": [
        "output(img)"
      ],
      "execution_count": 17,
      "outputs": [
        {
          "output_type": "stream",
          "text": [
            "/usr/local/lib/python3.7/dist-packages/tensorflow/python/keras/engine/sequential.py:455: UserWarning: `model.predict_classes()` is deprecated and will be removed after 2021-01-01. Please use instead:* `np.argmax(model.predict(x), axis=-1)`,   if your model does multi-class classification   (e.g. if it uses a `softmax` last-layer activation).* `(model.predict(x) > 0.5).astype(\"int32\")`,   if your model does binary classification   (e.g. if it uses a `sigmoid` last-layer activation).\n",
            "  warnings.warn('`model.predict_classes()` is deprecated and '\n"
          ],
          "name": "stderr"
        },
        {
          "output_type": "stream",
          "text": [
            "No Ship With probability 50.99\n"
          ],
          "name": "stdout"
        },
        {
          "output_type": "stream",
          "text": [
            "/usr/local/lib/python3.7/dist-packages/tensorflow/python/keras/engine/sequential.py:430: UserWarning: `model.predict_proba()` is deprecated and will be removed after 2021-01-01. Please use `model.predict()` instead.\n",
            "  warnings.warn('`model.predict_proba()` is deprecated and '\n"
          ],
          "name": "stderr"
        }
      ]
    },
    {
      "cell_type": "code",
      "metadata": {
        "id": "cLmX8uYcnW_S"
      },
      "source": [
        ""
      ],
      "execution_count": null,
      "outputs": []
    }
  ]
}